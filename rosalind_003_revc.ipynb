{
 "cells": [
  {
   "attachments": {},
   "cell_type": "markdown",
   "metadata": {},
   "source": [
    "# Complementing a Strand of DNA"
   ]
  },
  {
   "cell_type": "code",
   "execution_count": null,
   "metadata": {},
   "outputs": [],
   "source": [
    "# Function definition\n",
    "\n",
    "def reverse_complement(dna_string):\n",
    "    s_c = dna_string.replace('A', '%temp%').replace('T', 'A').replace('%temp%', 'T')\n",
    "    s_c = s_c.replace('G', '%temp%').replace('C', 'G').replace('%temp%', 'C')\n",
    "    s_c = s_c[::-1]\n",
    "    return(s_c)"
   ]
  },
  {
   "cell_type": "code",
   "execution_count": null,
   "metadata": {},
   "outputs": [],
   "source": [
    "# Reading the input file\n",
    "\n",
    "with open('Data/003_rosalind_revc.txt') as data:\n",
    "    dna = str(data.readlines())"
   ]
  },
  {
   "cell_type": "code",
   "execution_count": null,
   "metadata": {},
   "outputs": [],
   "source": [
    "# Applying the function\n",
    "\n",
    "reverse_complement(dna)"
   ]
  }
 ],
 "metadata": {
  "language_info": {
   "name": "python"
  },
  "orig_nbformat": 4
 },
 "nbformat": 4,
 "nbformat_minor": 2
}
