{
 "cells": [
  {
   "attachments": {},
   "cell_type": "markdown",
   "metadata": {},
   "source": [
    "# RNA Splicing"
   ]
  },
  {
   "cell_type": "code",
   "execution_count": 11,
   "metadata": {},
   "outputs": [],
   "source": [
    "# Importing the reverse complement function\n",
    "\n",
    "import import_ipynb\n",
    "\n",
    "from rosalind_002_rna import dna_to_rna\n",
    "from rosalind_008_prot import rna_to_protein"
   ]
  },
  {
   "cell_type": "code",
   "execution_count": 12,
   "metadata": {},
   "outputs": [],
   "source": [
    "# Function definition\n",
    "\n",
    "def splice_rna(dna_string, introns):\n",
    "\n",
    "    # Get the glued exons by cutting introns\n",
    "    for intron in introns:\n",
    "        dna_string = dna_string.replace(intron, '')\n",
    "\n",
    "    rna_string = dna_to_rna(dna_string)\n",
    "    protein = rna_to_protein(rna_string)\n",
    "\n",
    "    return(protein)"
   ]
  },
  {
   "cell_type": "code",
   "execution_count": 25,
   "metadata": {},
   "outputs": [],
   "source": [
    "# Reading the input file\n",
    "\n",
    "with open('Data/022_rosalind_splc.txt') as d:\n",
    "    data = d.read().splitlines()\n",
    "\n",
    "    # DNA String\n",
    "    dna_string = \"\"\n",
    "    \n",
    "    for i in range(1, len(data)):\n",
    "    \n",
    "        if \">\" in data[i]:\n",
    "            data = data[i:]\n",
    "            break\n",
    "\n",
    "        dna_string += data[i]\n",
    "\n",
    "    # Introns\n",
    "    introns = data[1::2]"
   ]
  },
  {
   "cell_type": "code",
   "execution_count": 26,
   "metadata": {},
   "outputs": [
    {
     "data": {
      "text/plain": [
       "'MRNLRKTLEDPVHCLRLDVYIARVHLAIWTRSTYSLANELRGPNPLDLTAASQEPSTCLHTMSRLLCQLGPNESKELHQDIQVPTIKVVRRSAAVFIRSNLRCVGIRITIRAGTIYLYDMQTKVVPLRVLQPYRGVLVNPEEKPLMCNTPDVTRWLRNVEQGSEAA'"
      ]
     },
     "execution_count": 26,
     "metadata": {},
     "output_type": "execute_result"
    }
   ],
   "source": [
    "splice_rna(dna_string, introns)"
   ]
  }
 ],
 "metadata": {
  "kernelspec": {
   "display_name": "base",
   "language": "python",
   "name": "python3"
  },
  "language_info": {
   "codemirror_mode": {
    "name": "ipython",
    "version": 3
   },
   "file_extension": ".py",
   "mimetype": "text/x-python",
   "name": "python",
   "nbconvert_exporter": "python",
   "pygments_lexer": "ipython3",
   "version": "3.9.16"
  },
  "orig_nbformat": 4
 },
 "nbformat": 4,
 "nbformat_minor": 2
}
