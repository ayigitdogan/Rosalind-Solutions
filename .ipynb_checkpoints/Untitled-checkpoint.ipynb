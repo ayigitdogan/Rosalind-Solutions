{
 "cells": [
  {
   "cell_type": "markdown",
   "id": "9c2d5229",
   "metadata": {},
   "source": [
    "# 001"
   ]
  },
  {
   "cell_type": "code",
   "execution_count": 2,
   "id": "7b53a523",
   "metadata": {},
   "outputs": [],
   "source": [
    "dna = 'AGCTTTTCATTCTGACTGCAACGGGCAATATGTCTCTGTGTGGATTAAAAAAAGAGTGTCTGATAGCAGC'\n",
    "\n",
    "A = dna.count('A')\n",
    "C = dna.count('C')\n",
    "G = dna.count('G')\n",
    "T = dna.count('T')"
   ]
  },
  {
   "cell_type": "code",
   "execution_count": 7,
   "id": "45749248",
   "metadata": {},
   "outputs": [
    {
     "data": {
      "text/plain": [
       "21"
      ]
     },
     "execution_count": 7,
     "metadata": {},
     "output_type": "execute_result"
    }
   ],
   "source": [
    "T"
   ]
  }
 ],
 "metadata": {
  "kernelspec": {
   "display_name": "Python 3 (ipykernel)",
   "language": "python",
   "name": "python3"
  },
  "language_info": {
   "codemirror_mode": {
    "name": "ipython",
    "version": 3
   },
   "file_extension": ".py",
   "mimetype": "text/x-python",
   "name": "python",
   "nbconvert_exporter": "python",
   "pygments_lexer": "ipython3",
   "version": "3.9.7"
  }
 },
 "nbformat": 4,
 "nbformat_minor": 5
}
