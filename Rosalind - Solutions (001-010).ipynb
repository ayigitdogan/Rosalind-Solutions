{
 "cells": [
  {
   "attachments": {},
   "cell_type": "markdown",
   "id": "9c2d5229",
   "metadata": {},
   "source": [
    "## 001 - Counting DNA Nucleotides"
   ]
  },
  {
   "cell_type": "code",
   "execution_count": 1,
   "id": "7b53a523",
   "metadata": {},
   "outputs": [
    {
     "data": {
      "text/plain": [
       "(228, 258, 236, 247)"
      ]
     },
     "execution_count": 1,
     "metadata": {},
     "output_type": "execute_result"
    }
   ],
   "source": [
    "with open('Data/001_rosalind_dna.txt') as data:\n",
    "    dna = str(data.readlines())\n",
    "\n",
    "def count_bases(dna_string):\n",
    "    A = dna_string.count('A')\n",
    "    C = dna_string.count('C')\n",
    "    G = dna_string.count('G')\n",
    "    T = dna_string.count('T')\n",
    "    return A, C, G, T\n",
    "\n",
    "count_bases(dna)"
   ]
  },
  {
   "attachments": {},
   "cell_type": "markdown",
   "id": "1b7315b5",
   "metadata": {},
   "source": [
    "## 002 - Transcribing DNA into RNA"
   ]
  },
  {
   "cell_type": "code",
   "execution_count": 2,
   "id": "691d47dc",
   "metadata": {},
   "outputs": [
    {
     "data": {
      "text/plain": [
       "\"['AGUGCGUAUGCGAGGGGUGAAGAUAGCUAUUCCAGCCUGUCAAGUGAAGCGCGGAUCACGGAGGAGAGGAAUAAGUUUUAGGCGGUUCGUUUGAGGAUUUGGUGAUGAGAUUUCGCAUGCGGCGGUCUUCAUUAGUUUGACCAAGUAACUUCUGGUUUCGGCCAUUGGGCAUUGCAGGGCUAUCCAGCCGGAGUUUUGACAGGUUCACAACCGCCCUAGGAGCUCGGAUUAAGUCACGGGCCCUAGAGGGCUUGGGACGCUGGGAAAGUAUGGAUACUGCGUGGACAGCGAUCCUGAUUCUGUGGAACUAAACGCGGCCUUGACGCAGUGUCAUGUUUCCAUGAGUUAGGCCUUAUAGCAGGAAUGGCUUUUCGAGCGCCGUAUCUCGUGACAAACGAAGUCAGGGUCCGGAUGGUGCAUAUGCUAUUGUGGUACUCAACGGGCUAGUCCGGUGCUUUUAUGGGCGCUGUUCGCAACAGAUACGAGCUGCUAGGUGAGCGGUCUAAGCCAUGGUGCGUAGGUGACCCCCAUGAACGGCCUGAAGGCUCCACGAUGGGUGUAUUCAGUCAUCCGAGAAUCCCGAGUUACAUGGUCGACAUAAUGCUUAUGUAUCGGGGGACAUCUGCACGUGUGAGGGAUGACAGUUUUAGGUUGAGAAAAGACACCUGUCUCCGUAACUCUUUAAAUUUGCCAUGGCGCGUCUACUCCCAUUUAAUCAGAAGCGUGGAUAGUCGUUUCGACGGGGACACUGAAGCUCGCCCAAAAGCAGCAUUCGACCCGGAGGAGUAUGGCCUCUAUGUGGAGAACGCAUGAAGGGACGUACCGCGCGGUGGAACCGGAUCACAGCCUCACAUCCCCCGCCCGGCCCACCGCAUCCAGAUUUGCCAGGCAUGAAGGUAGUCCAACGACUC\\\\n']\""
      ]
     },
     "execution_count": 2,
     "metadata": {},
     "output_type": "execute_result"
    }
   ],
   "source": [
    "with open('Data/002_rosalind_rna.txt') as data:\n",
    "    dna = str(data.readlines())\n",
    "\n",
    "def dna_to_rna(dna_string):\n",
    "    return dna_string.replace(\"T\", \"U\")\n",
    "\n",
    "dna_to_rna(dna)"
   ]
  },
  {
   "attachments": {},
   "cell_type": "markdown",
   "id": "eb3ce01c",
   "metadata": {},
   "source": [
    "## 003 - Complementing a Strand of DNA"
   ]
  },
  {
   "cell_type": "code",
   "execution_count": 3,
   "id": "7a35caf1",
   "metadata": {},
   "outputs": [
    {
     "data": {
      "text/plain": [
       "\"]'n\\\\GATGAAGCCATTCACTACCCAAAACCTAAAACAGGCATTACATTCTCCGTGGGCAATTTTTTACGGAAAATGGTGCAGAAGGAAAGTCTCCATACATTATTATGGGGAGCTTACTCGCTCACAACGGGGACGACGACCGCCAAGGACGGAGTTGATAACGTATCTACGATATTGAGGTCTCGTCAAACAGTTAAAACGTGTTGCATGAAGCAGGGTTACTTTCACAGAATCAATATCCTTCTCGTCATGTATGATCAAGAGTCGCCCGAGATGGAATCCCCGTAACGGATTACGTAAAACTTACTAAGGTGAGCAGCGCTTAGACTATGATTCTACCGATGTATCGCAAAGCCTTTCGTAGCGCCTTGCGATAAGGGAGCCTAATGGTTGCTACTGCTCTCGGCGATTCTCGTGGAGTTTTTTGAATACCCAAACAGGACCTGCTCTGCATGCTCAATCTCCCATAGTGGGAACCCTAACTCAAATAATTTGATGCGAAACCACAATCCACGACAGGGCCAAAAGCCAAGGTAATGTTGGTATGGTATCTCCAGGTTAAAGCCGGTGTAATGTGTTGACGGCGAGCGATTGAGATCCTATGGGGTCTCCGCAGATCTGGGACGAATCAGTGCTATAGGGCTCTCACATGATACGGAACGCCCAAATCGATATGGTGATGACTCAAGGATAGCGTTATACCCCCCCTGCCACGGGGACTCATCAACCAGTCCTTTATTGCACCTCCTCCCGTTTCACATAGTCAAGCGTTCCGCGTGCGTGGTTACCACGTCGTTCTCTCATTGTTCAATCGTGTCTCGATATGTGAACCGGAATTAACAGACCCCTAAGTATTTAGGATAGGTAGTG'[\""
      ]
     },
     "execution_count": 3,
     "metadata": {},
     "output_type": "execute_result"
    }
   ],
   "source": [
    "with open('Data/003_rosalind_revc.txt') as data:\n",
    "    dna = str(data.readlines())\n",
    "\n",
    "def find_reverse_complement(dna_string):\n",
    "    s_c = dna_string.replace('A', '%temp%').replace('T', 'A').replace('%temp%', 'T')\n",
    "    s_c = s_c.replace('G', '%temp%').replace('C', 'G').replace('%temp%', 'C')\n",
    "    s_c = s_c[::-1]\n",
    "    return s_c\n",
    "\n",
    "find_reverse_complement(dna)"
   ]
  },
  {
   "attachments": {},
   "cell_type": "markdown",
   "id": "519aa8b9",
   "metadata": {},
   "source": [
    "## 004 - Rabbits and Recurrence Relations"
   ]
  },
  {
   "cell_type": "code",
   "execution_count": 4,
   "id": "d8276d96",
   "metadata": {},
   "outputs": [
    {
     "data": {
      "text/plain": [
       "20444528200"
      ]
     },
     "execution_count": 4,
     "metadata": {},
     "output_type": "execute_result"
    }
   ],
   "source": [
    "def find_fibonacci_rabbits(n, k, i):\n",
    "    # find the number of rabbits at the nth month\n",
    "    # starting with i newborn pairs\n",
    "    # each mate producing a litter of k rabbit pairs\n",
    "    rep = 0 # reproductive pairs\n",
    "    new = 1 # newborn pairs\n",
    "    for j in range(1, n):\n",
    "        temp = rep\n",
    "        rep = rep + new\n",
    "        new = 3 * temp\n",
    "\n",
    "    return rep + new\n",
    "\n",
    "find_fibonacci_rabbits(30, 3, 1)"
   ]
  },
  {
   "attachments": {},
   "cell_type": "markdown",
   "id": "6a72b069",
   "metadata": {},
   "source": [
    "## 005 - Computing GC Content"
   ]
  },
  {
   "cell_type": "code",
   "execution_count": 5,
   "id": "fce54e23",
   "metadata": {},
   "outputs": [],
   "source": [
    "from Bio import SeqIO\n",
    "import pandas as pd"
   ]
  },
  {
   "cell_type": "code",
   "execution_count": 6,
   "id": "9c7db6f4",
   "metadata": {},
   "outputs": [],
   "source": [
    "def find_gc_content(dna_string):\n",
    "    bases = count_bases(dna_string)\n",
    "    return (bases[1] + bases[2]) / len(dna_string)"
   ]
  },
  {
   "cell_type": "code",
   "execution_count": 7,
   "id": "6f0c4272",
   "metadata": {},
   "outputs": [],
   "source": [
    "with open('Data/005_rosalind_gc.fasta') as fasta_file:\n",
    "    identifiers = []\n",
    "    gc_contents = []\n",
    "    for seq_record in SeqIO.parse(fasta_file, 'fasta'):\n",
    "        identifiers.append(seq_record.id)\n",
    "        gc_contents.append(find_gc_content(seq_record.seq)*100)"
   ]
  },
  {
   "cell_type": "code",
   "execution_count": 8,
   "id": "4ec2135d",
   "metadata": {},
   "outputs": [
    {
     "data": {
      "text/html": [
       "<div>\n",
       "<style scoped>\n",
       "    .dataframe tbody tr th:only-of-type {\n",
       "        vertical-align: middle;\n",
       "    }\n",
       "\n",
       "    .dataframe tbody tr th {\n",
       "        vertical-align: top;\n",
       "    }\n",
       "\n",
       "    .dataframe thead th {\n",
       "        text-align: right;\n",
       "    }\n",
       "</style>\n",
       "<table border=\"1\" class=\"dataframe\">\n",
       "  <thead>\n",
       "    <tr style=\"text-align: right;\">\n",
       "      <th></th>\n",
       "      <th>id</th>\n",
       "      <th>gc_content</th>\n",
       "    </tr>\n",
       "  </thead>\n",
       "  <tbody>\n",
       "    <tr>\n",
       "      <th>0</th>\n",
       "      <td>Rosalind_9535</td>\n",
       "      <td>50.345622</td>\n",
       "    </tr>\n",
       "    <tr>\n",
       "      <th>1</th>\n",
       "      <td>Rosalind_5771</td>\n",
       "      <td>48.178980</td>\n",
       "    </tr>\n",
       "    <tr>\n",
       "      <th>2</th>\n",
       "      <td>Rosalind_4778</td>\n",
       "      <td>49.739854</td>\n",
       "    </tr>\n",
       "    <tr>\n",
       "      <th>3</th>\n",
       "      <td>Rosalind_0462</td>\n",
       "      <td>46.338798</td>\n",
       "    </tr>\n",
       "    <tr>\n",
       "      <th>4</th>\n",
       "      <td>Rosalind_0099</td>\n",
       "      <td>49.594438</td>\n",
       "    </tr>\n",
       "    <tr>\n",
       "      <th>5</th>\n",
       "      <td>Rosalind_6528</td>\n",
       "      <td>51.398964</td>\n",
       "    </tr>\n",
       "    <tr>\n",
       "      <th>6</th>\n",
       "      <td>Rosalind_6101</td>\n",
       "      <td>52.696629</td>\n",
       "    </tr>\n",
       "    <tr>\n",
       "      <th>7</th>\n",
       "      <td>Rosalind_6960</td>\n",
       "      <td>50.378378</td>\n",
       "    </tr>\n",
       "    <tr>\n",
       "      <th>8</th>\n",
       "      <td>Rosalind_0980</td>\n",
       "      <td>50.000000</td>\n",
       "    </tr>\n",
       "  </tbody>\n",
       "</table>\n",
       "</div>"
      ],
      "text/plain": [
       "              id  gc_content\n",
       "0  Rosalind_9535   50.345622\n",
       "1  Rosalind_5771   48.178980\n",
       "2  Rosalind_4778   49.739854\n",
       "3  Rosalind_0462   46.338798\n",
       "4  Rosalind_0099   49.594438\n",
       "5  Rosalind_6528   51.398964\n",
       "6  Rosalind_6101   52.696629\n",
       "7  Rosalind_6960   50.378378\n",
       "8  Rosalind_0980   50.000000"
      ]
     },
     "execution_count": 8,
     "metadata": {},
     "output_type": "execute_result"
    }
   ],
   "source": [
    "df = pd.DataFrame(zip(identifiers, gc_contents), columns = (\"id\", \"gc_content\"))\n",
    "df"
   ]
  },
  {
   "cell_type": "code",
   "execution_count": 9,
   "id": "023bbe22",
   "metadata": {},
   "outputs": [
    {
     "name": "stdout",
     "output_type": "stream",
     "text": [
      "              id  gc_content\n",
      "6  Rosalind_6101   52.696629\n"
     ]
    }
   ],
   "source": [
    "print(df[df.gc_content == df.gc_content.max()])"
   ]
  },
  {
   "attachments": {},
   "cell_type": "markdown",
   "id": "8117e9e5",
   "metadata": {},
   "source": [
    "## 006 - Counting Point Mutations"
   ]
  },
  {
   "cell_type": "code",
   "execution_count": 10,
   "id": "8428e1e3",
   "metadata": {},
   "outputs": [
    {
     "data": {
      "text/plain": [
       "497"
      ]
     },
     "execution_count": 10,
     "metadata": {},
     "output_type": "execute_result"
    }
   ],
   "source": [
    "data = open(\"Data/006_rosalind_hamm.txt\", \"r\")\n",
    "pair = data.read().splitlines()\n",
    "count = 0\n",
    "for i in range(0, len(pair[1])):\n",
    "    if pair[0][i] != pair[1][i]:\n",
    "        count += 1\n",
    "\n",
    "count"
   ]
  },
  {
   "attachments": {},
   "cell_type": "markdown",
   "id": "0fb4a785",
   "metadata": {},
   "source": [
    "## 007 - Mendel's First Law"
   ]
  },
  {
   "cell_type": "code",
   "execution_count": 11,
   "id": "3b15336c",
   "metadata": {},
   "outputs": [
    {
     "data": {
      "text/plain": [
       "0.8185300207039338"
      ]
     },
     "execution_count": 11,
     "metadata": {},
     "output_type": "execute_result"
    }
   ],
   "source": [
    "k = 27  # AA\n",
    "m = 26  # Aa\n",
    "n = 17  # aa\n",
    "\n",
    "T = k + m + n\n",
    "\n",
    "pr =  (n / T) * ((n - 1) / (T - 1)) * 1     # aa & aa\n",
    "pr += (m / T) * (n / (T - 1))       * 0.5   # Aa & aa\n",
    "pr += (n / T) * (m / (T - 1))       * 0.5   # aa & Aa\n",
    "pr += (m / T) * ((m - 1) / (T - 1)) * 0.25  # Aa & Aa\n",
    "\n",
    "1 - pr"
   ]
  },
  {
   "attachments": {},
   "cell_type": "markdown",
   "id": "9f799fc0",
   "metadata": {},
   "source": [
    "## 008 - Translating RNA into Protein"
   ]
  },
  {
   "cell_type": "code",
   "execution_count": 12,
   "id": "d2126249",
   "metadata": {},
   "outputs": [],
   "source": [
    "from Bio.Seq import Seq"
   ]
  },
  {
   "cell_type": "code",
   "execution_count": 13,
   "id": "26e9a329",
   "metadata": {},
   "outputs": [],
   "source": [
    "data = open(\"Data/008_rosalind_prot.txt\", \"r\")\n",
    "rna  = Seq(data.read())"
   ]
  },
  {
   "cell_type": "code",
   "execution_count": 14,
   "id": "477785c9",
   "metadata": {},
   "outputs": [
    {
     "name": "stdout",
     "output_type": "stream",
     "text": [
      "MVIRSLATPLHRDSRISEPRGRLFTMVAASIFSWNCIRAPSFYTCSVGTAGEPIRGAGTHFCWSPNALAMVCGQVRLNHHRSTRKPTRPTCALRGLTAGTLLQRGVFVRYNLEERLHGLRLKLCGRTSLTLYDLDIGIGHDFRYTRVLKANSGRSYSSLHPDAVPLGGCGIRQKSPPCVKRSRVKEPPAIHLRISREEFVLRYVELLSKDPSDVNLMARPNVGLAAIPSGVVCVNWLSYRKLNPLSVIQLGHTGWQHCSNGENLMHVPGTNGTHFSYQRLNCDNVIVAVAAIFLEIVAAHARRELARCPAGAKRAALEFHPSSCCLHQLRGLSVPSRVLPIKYDSLTTSEKRLTDEGVYNITYGIDDPTSSDRTRYSRYSIIASAILSRAKLPVLDLPLTRLSTPYPEIWESAPIPLQLWYISQLNRFYCRGLTISHQKLCSAIHPSGPWEFVLLGPACNGIATVCRRSRHTLAHWAYWVLTRATQLVYPTSKPTTCREIFNSAPGKYEENFNFPLNQPRFLPACDRSKLHNSQLNAHRQFTRRSATEMPYIRLSIRNRGDQGLRKMPTICDELINVISDELILFFHRHCLHTSVGPLRSSQPTRTGKQPGPVRRVSPTTSSPTFHLTEPSRYLNRRHNVHTIPVSPVGSRALHTFAVFPPRCLAVHGIEQHYTRCSGRNDALRPLYRAMEAHECQLGRQQHSSLSSIRRSHAICCDVYSLESTASRSPTHCLKIRSKNCEGKRRTKTAFCTAILRITAAVIASRGSQELARTGAARMRAQVQTTKPGRLYEPQRRAIIDILKSTLYDVKNQSILTYSVTNDSISQVSHPPCLWKFTDGNARNFDSVTRVSIGGKLHCENLIFAGLWSKWSEQRPGPRSKGLSVTSRPGILYAQCHSPEYRSGARLREHFKVDSKGSLYCRNNVPPRFVPFGGTGTSLSHRIFRSRSCPLEPGHPLANSLNCHLESEHPGTNYKGAFQRIFNNVSWVSSEASKCGPTGNVVFVSYPISPTAKAGSFELYTRRLRTHESPCASNIATSRESAIRAKESFKSRRCGAILSARMLVLPALQQGLQASPRVLQSTYLLLGINHKALPGDRIELGARLPIFSGPMTTASVRFGWIALVVLVHPHPNGTRRLKRPESKSRFKTKTKTAPLTERDLGRDELRIGFERLRCHQTTPHSLCIRVYLRPTGYRSRYGFPGSARELRRARGFHPFSLSPGSQGRIRLTRVRRPIPTTRCSYSFLGRVVARHPVSPELRWYSQGFSCWHWQALNGRSGIGELHHSNGWENDSTPRVGKKARASSSASGLCRTYAKCLKASVNKIILGIKRLECVKVEPFFFEFPSWMRRNTYELLCAMHSFSLASCFCRAPDVTSCNVSAPISCTDVICRTQSGDVELTSPADSSSPEALRLFFRRILRCVWDSTCHLIRERNRGVKWALVLWVTRPLRVVTLANVAYPRSIPVTPRNLYLYFSELNPGLGYPWERPPHTLVLCLVSVTAYTTLQRHPRRAFIWVCYLWVILQLCGYAVDGGAFMVALACSRQGGPKGRSRNPTARAIFTLTDSFLRLLGMPVRSHGQRIDNASEHLLYFLQDSKTSHNRLGVIRSAPYYYDHEQCVNMLLYPLGCTREKPLHRDAKAGVHTTLFAQFDPGLALDLRETHRYKTVWCKRLSNNSISVECSPGQVRSLGIHRASVTTFLTVGPPLFSGGIEYSRDGPGVSLLPDPNESPGGPEAGRERRHLFHSSNGLTFSASNSLKWLGVAYVGNELLSSGYENINHDKRNYERFPGNVGLTKNIDVLVFRITVCIHTNVKRACLRVLAIILGTNMKICRCKLLRSRLQDIRDYSVIVASNRCLVWWPGVAEGVTYAINTSSLNTNHSGVKPMWETDSKGVTSRFISHFTAGSDIATLASRIAGNKYPVPGTKAITRPIRSPCDAKHAFLGNVSDLGILSATRQAIAPLCSPLSPSTTECFPNNVLESCCCRLQRSPSCRDEHFAMGIASSCIKRWKRFRGTRLMRRRRFCCSLGTLVTSGNLTRQGTHPIWFARRKRPIRNQTVRVNQLSDRLICPVLPFCTCWNDRAGRLLHPESILRCDTTSNQAGFVLYYLCSISIILLMWLHSMTLEFGVNLSMSTAGRRHVGTGHSSTHTFRLSASAHPRVRMPHPIVLKRTRCERSTTWERGSRRQGAWRSGAEVQTSFIAYVELIVNDSVYIQPFSWFEEPRWLDPRRRCKFSSRTSSCSGSYDDSFGGSRQAPAQRRSLGHCFCLETLYKTSVVTFKDGYLTNLLLPSSLFSLIKSSLPTERITFAGSRAISYQAEHSGTFPHQPRVFFIVGRCTYHRKLESRLQRFTTYAICNKLRNVEDCSYQEGMLLAVASIHPATAFGCRGHLKMLFGFRSVCFRIQTIQNPPTPPHFICTANRVLHTSRNRMAELAVARWIKSSWFSEGPQGNDVNIGYKPSNLLDQRCIPRRPLMSVCFAHAFQDDYTTLLRNLKFGHLEPLARKSCIQVSLARHPAPGSYFDLTGHKGPGTRPGLHRYGPMNRTPPRGGRAYRVTRPVAYIQVSMGLAPIDRYPTCPRSDIHLEHQGESTRHGIMTSPTTTRSSPMILLALTILDTWESSIGIKLLRPNFPATQSSNRSSTSGPNTGSVATSGCCAGHRDCVDASTLISVGLHRLGSNTDTANCRPRMKRPRPRVAGGDRYKTRSASKTLRPEGSCACLSATCEPSLWKLRSYLKYPCRLSSRPDIIQAQQGYRERLEIPRATTCRSRFHRERLFSLHTWHVGRSAPRLRGLLANHICPDEESDPYFITEGSTRGFLDVHLLGTPRWGTHVYAARLTAEYLMRYYVKRLYAIARCYANQCGYGLALLALDLCYAIKSYASLKWVGWPLLSIKVHNVVAKPHRFETAFGRTLRLLIYDSVSNDREKREMSSARGARCDGVGTSGGTASREVPPGAHISYFLIVPLGLACHVVFRSPDHCSYWGEAHPNSFGIPSVDSSAPFLTVFIGSCILANLPGRSTELSTVELMRLAEYCCIFALTRC*\n"
     ]
    },
    {
     "name": "stderr",
     "output_type": "stream",
     "text": [
      "c:\\ProgramData\\Anaconda3\\lib\\site-packages\\Bio\\Seq.py:2334: BiopythonWarning: Partial codon, len(sequence) not a multiple of three. Explicitly trim the sequence or add trailing N before translation. This may become an error in future.\n",
      "  warnings.warn(\n"
     ]
    }
   ],
   "source": [
    "print(rna.translate())"
   ]
  },
  {
   "attachments": {},
   "cell_type": "markdown",
   "id": "cab61f53",
   "metadata": {},
   "source": [
    "## 009 - Finding a Motif in DNA"
   ]
  },
  {
   "cell_type": "code",
   "execution_count": 15,
   "id": "bf8205e1",
   "metadata": {},
   "outputs": [
    {
     "data": {
      "text/plain": [
       "[5,\n",
       " 12,\n",
       " 28,\n",
       " 46,\n",
       " 53,\n",
       " 104,\n",
       " 187,\n",
       " 194,\n",
       " 274,\n",
       " 389,\n",
       " 396,\n",
       " 411,\n",
       " 475,\n",
       " 518,\n",
       " 558,\n",
       " 573,\n",
       " 601,\n",
       " 659,\n",
       " 666,\n",
       " 683,\n",
       " 771,\n",
       " 828,\n",
       " 853,\n",
       " 869,\n",
       " 876,\n",
       " 901,\n",
       " 916]"
      ]
     },
     "execution_count": 15,
     "metadata": {},
     "output_type": "execute_result"
    }
   ],
   "source": [
    "data = open(\"Data/009_rosalind_subs.txt\", \"r\")\n",
    "dna  = data.read().splitlines()\n",
    "\n",
    "def find_instances(dna_string, subset):\n",
    "    out = []\n",
    "    for i in range(0, len(dna_string)):\n",
    "        if (dna_string[i:i+len(subset)] == subset):\n",
    "            out.append(i+1)\n",
    "    return out\n",
    "\n",
    "find_instances(dna[0], dna[1])"
   ]
  },
  {
   "attachments": {},
   "cell_type": "markdown",
   "id": "bb037e0a",
   "metadata": {},
   "source": [
    "## 010 - Mortal Fibonacci Rabbits"
   ]
  },
  {
   "cell_type": "code",
   "execution_count": 29,
   "id": "9decccbf",
   "metadata": {},
   "outputs": [
    {
     "data": {
      "text/plain": [
       "414110157126129233"
      ]
     },
     "execution_count": 29,
     "metadata": {},
     "output_type": "execute_result"
    }
   ],
   "source": [
    "def find_mortal_fibonacci_rabbits(n, m):\n",
    "    # find the number of rabbits at the nth month\n",
    "    # starting with 1 newborn pair\n",
    "    # each mate producing one rabbit pair\n",
    "    # and live for m months\n",
    "    rep = 0             # reproductive pairs\n",
    "    new = [0] * (m+1)   # newborn pairs\n",
    "    new[-1] = 1\n",
    "\n",
    "    for j in range(1, n):\n",
    "        new.pop(0)\n",
    "        new.append(rep)\n",
    "        rep = rep + new[-2] - new[0]\n",
    "\n",
    "    return rep + new[-1]\n",
    "\n",
    "find_mortal_fibonacci_rabbits(86, 16)"
   ]
  }
 ],
 "metadata": {
  "kernelspec": {
   "display_name": "base",
   "language": "python",
   "name": "python3"
  },
  "language_info": {
   "codemirror_mode": {
    "name": "ipython",
    "version": 3
   },
   "file_extension": ".py",
   "mimetype": "text/x-python",
   "name": "python",
   "nbconvert_exporter": "python",
   "pygments_lexer": "ipython3",
   "version": "3.9.16"
  },
  "vscode": {
   "interpreter": {
    "hash": "ad2bdc8ecc057115af97d19610ffacc2b4e99fae6737bb82f5d7fb13d2f2c186"
   }
  }
 },
 "nbformat": 4,
 "nbformat_minor": 5
}
