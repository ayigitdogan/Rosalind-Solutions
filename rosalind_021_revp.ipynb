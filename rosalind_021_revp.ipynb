{
 "cells": [
  {
   "attachments": {},
   "cell_type": "markdown",
   "metadata": {},
   "source": [
    "# Locating Restriction Sites"
   ]
  },
  {
   "cell_type": "code",
   "execution_count": 1,
   "metadata": {},
   "outputs": [
    {
     "name": "stdout",
     "output_type": "stream",
     "text": [
      "importing Jupyter notebook from rosalind_003_revc.ipynb\n"
     ]
    }
   ],
   "source": [
    "# Importing the reverse complement function\n",
    "\n",
    "import import_ipynb\n",
    "from rosalind_003_revc import reverse_complement"
   ]
  },
  {
   "cell_type": "code",
   "execution_count": 20,
   "metadata": {},
   "outputs": [],
   "source": [
    "# Function definition\n",
    "\n",
    "def locate_restriction_sites(dna_string):\n",
    "\n",
    "    res_sites = []\n",
    "\n",
    "    for i in range(len(dna_string) - 4 + 1):\n",
    "        \n",
    "        for j in range(4, 13):\n",
    "            \n",
    "            if (i+j) > len(dna_string):\n",
    "                break\n",
    "\n",
    "            subseq = dna_string[i:i+j]\n",
    "\n",
    "            if subseq == reverse_complement(subseq):\n",
    "                res_sites.append([i+1, j])\n",
    "\n",
    "    return(res_sites)"
   ]
  },
  {
   "cell_type": "code",
   "execution_count": 30,
   "metadata": {},
   "outputs": [],
   "source": [
    "# Reading the input file\n",
    "\n",
    "with open('Data/021_rosalind_revp.txt') as data:\n",
    "    dna_string = data.read().splitlines()\n",
    "    dna_string = \"\".join(dna_string[1:])"
   ]
  },
  {
   "cell_type": "code",
   "execution_count": 32,
   "metadata": {},
   "outputs": [
    {
     "name": "stdout",
     "output_type": "stream",
     "text": [
      "1 4\n",
      "2 4\n",
      "17 8\n",
      "18 6\n",
      "19 4\n",
      "32 6\n",
      "33 4\n",
      "37 4\n",
      "42 4\n",
      "42 6\n",
      "42 8\n",
      "43 4\n",
      "43 6\n",
      "44 4\n",
      "44 6\n",
      "45 4\n",
      "46 4\n",
      "56 4\n",
      "57 6\n",
      "58 4\n",
      "63 4\n",
      "101 6\n",
      "102 4\n",
      "106 4\n",
      "185 4\n",
      "188 4\n",
      "231 4\n",
      "232 4\n",
      "269 4\n",
      "302 4\n",
      "324 4\n",
      "325 4\n",
      "341 4\n",
      "374 4\n",
      "377 4\n",
      "387 6\n",
      "388 4\n",
      "404 10\n",
      "405 8\n",
      "406 6\n",
      "407 4\n",
      "418 12\n",
      "419 10\n",
      "420 8\n",
      "421 6\n",
      "422 4\n",
      "452 4\n",
      "522 4\n",
      "524 6\n",
      "525 4\n",
      "531 6\n",
      "532 4\n",
      "584 4\n",
      "585 4\n",
      "621 8\n",
      "622 6\n",
      "623 4\n",
      "627 4\n",
      "628 8\n",
      "629 6\n",
      "630 4\n",
      "638 4\n",
      "643 4\n",
      "648 4\n",
      "662 6\n",
      "663 4\n",
      "686 4\n",
      "710 6\n",
      "711 4\n",
      "733 4\n",
      "735 4\n",
      "743 4\n",
      "751 4\n",
      "757 4\n",
      "805 4\n",
      "813 6\n",
      "814 4\n",
      "843 4\n"
     ]
    }
   ],
   "source": [
    "# Clean outputs\n",
    "\n",
    "for i in locate_restriction_sites(dna_string):\n",
    "    print(*i)"
   ]
  }
 ],
 "metadata": {
  "kernelspec": {
   "display_name": "base",
   "language": "python",
   "name": "python3"
  },
  "language_info": {
   "codemirror_mode": {
    "name": "ipython",
    "version": 3
   },
   "file_extension": ".py",
   "mimetype": "text/x-python",
   "name": "python",
   "nbconvert_exporter": "python",
   "pygments_lexer": "ipython3",
   "version": "3.9.16"
  },
  "orig_nbformat": 4
 },
 "nbformat": 4,
 "nbformat_minor": 2
}
